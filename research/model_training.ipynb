{
 "cells": [
  {
   "cell_type": "code",
   "execution_count": 1,
   "id": "a9db8f43",
   "metadata": {},
   "outputs": [
    {
     "data": {
      "text/plain": [
       "'d:\\\\ML_MODEL\\\\MLOPS_PROJECT\\\\project_youtube_3\\\\COmplete_ML_Pipeline\\\\complete-ml-pipeline\\\\research'"
      ]
     },
     "execution_count": 1,
     "metadata": {},
     "output_type": "execute_result"
    }
   ],
   "source": [
    "import os \n",
    "os.getcwd()"
   ]
  },
  {
   "cell_type": "code",
   "execution_count": null,
   "id": "8f389b28",
   "metadata": {},
   "outputs": [],
   "source": [
    "# os.chdir(\"..\")"
   ]
  },
  {
   "cell_type": "code",
   "execution_count": 3,
   "id": "9c09f19c",
   "metadata": {},
   "outputs": [
    {
     "data": {
      "text/plain": [
       "'d:\\\\ML_MODEL\\\\MLOPS_PROJECT\\\\project_youtube_3\\\\COmplete_ML_Pipeline\\\\complete-ml-pipeline'"
      ]
     },
     "execution_count": 3,
     "metadata": {},
     "output_type": "execute_result"
    }
   ],
   "source": [
    "os.getcwd()"
   ]
  },
  {
   "cell_type": "code",
   "execution_count": 4,
   "id": "05d13ba3",
   "metadata": {},
   "outputs": [],
   "source": [
    "import numpy as np \n",
    "import pandas as pd\n"
   ]
  },
  {
   "cell_type": "code",
   "execution_count": 5,
   "id": "d023d892",
   "metadata": {},
   "outputs": [],
   "source": [
    "from sklearn.linear_model import LinearRegression,ElasticNet,Ridge,Lasso\n",
    "from sklearn.tree import DecisionTreeRegressor\n",
    "from sklearn.svm import SVR\n",
    "from sklearn.ensemble import RandomForestRegressor,GradientBoostingRegressor\n",
    "\n",
    "from sklearn.metrics import mean_squared_error,r2_score,mean_absolute_error\n",
    "from sklearn.model_selection import train_test_split"
   ]
  },
  {
   "cell_type": "code",
   "execution_count": 11,
   "id": "f4fd5f08",
   "metadata": {},
   "outputs": [
    {
     "data": {
      "text/html": [
       "<div>\n",
       "<style scoped>\n",
       "    .dataframe tbody tr th:only-of-type {\n",
       "        vertical-align: middle;\n",
       "    }\n",
       "\n",
       "    .dataframe tbody tr th {\n",
       "        vertical-align: top;\n",
       "    }\n",
       "\n",
       "    .dataframe thead th {\n",
       "        text-align: right;\n",
       "    }\n",
       "</style>\n",
       "<table border=\"1\" class=\"dataframe\">\n",
       "  <thead>\n",
       "    <tr style=\"text-align: right;\">\n",
       "      <th></th>\n",
       "      <th>0</th>\n",
       "      <th>1</th>\n",
       "      <th>2</th>\n",
       "      <th>3</th>\n",
       "      <th>4</th>\n",
       "      <th>5</th>\n",
       "      <th>6</th>\n",
       "      <th>7</th>\n",
       "      <th>8</th>\n",
       "      <th>9</th>\n",
       "      <th>10</th>\n",
       "      <th>11</th>\n",
       "      <th>12</th>\n",
       "      <th>13</th>\n",
       "      <th>14</th>\n",
       "      <th>15</th>\n",
       "      <th>16</th>\n",
       "      <th>17</th>\n",
       "      <th>18</th>\n",
       "      <th>19</th>\n",
       "      <th>20</th>\n",
       "      <th>21</th>\n",
       "      <th>22</th>\n",
       "      <th>23</th>\n",
       "      <th>24</th>\n",
       "      <th>25</th>\n",
       "      <th>26</th>\n",
       "      <th>27</th>\n",
       "      <th>28</th>\n",
       "      <th>29</th>\n",
       "      <th>30</th>\n",
       "      <th>31</th>\n",
       "      <th>32</th>\n",
       "      <th>33</th>\n",
       "      <th>34</th>\n",
       "      <th>35</th>\n",
       "      <th>36</th>\n",
       "      <th>37</th>\n",
       "      <th>38</th>\n",
       "      <th>39</th>\n",
       "      <th>40</th>\n",
       "      <th>41</th>\n",
       "      <th>42</th>\n",
       "      <th>43</th>\n",
       "      <th>44</th>\n",
       "      <th>45</th>\n",
       "      <th>46</th>\n",
       "      <th>Result</th>\n",
       "    </tr>\n",
       "  </thead>\n",
       "  <tbody>\n",
       "    <tr>\n",
       "      <th>0</th>\n",
       "      <td>0.62561</td>\n",
       "      <td>-0.813848</td>\n",
       "      <td>-0.397234</td>\n",
       "      <td>0.0</td>\n",
       "      <td>0.0</td>\n",
       "      <td>0.0</td>\n",
       "      <td>0.0</td>\n",
       "      <td>0.0</td>\n",
       "      <td>1.0</td>\n",
       "      <td>0.0</td>\n",
       "      <td>0.0</td>\n",
       "      <td>0.0</td>\n",
       "      <td>0.0</td>\n",
       "      <td>1.0</td>\n",
       "      <td>0.0</td>\n",
       "      <td>1.0</td>\n",
       "      <td>0.0</td>\n",
       "      <td>1.0</td>\n",
       "      <td>0.0</td>\n",
       "      <td>0.0</td>\n",
       "      <td>0.0</td>\n",
       "      <td>0.0</td>\n",
       "      <td>0.0</td>\n",
       "      <td>0.0</td>\n",
       "      <td>0.0</td>\n",
       "      <td>0.0</td>\n",
       "      <td>0.0</td>\n",
       "      <td>0.0</td>\n",
       "      <td>0.0</td>\n",
       "      <td>0.0</td>\n",
       "      <td>0.0</td>\n",
       "      <td>0.0</td>\n",
       "      <td>0.0</td>\n",
       "      <td>0.0</td>\n",
       "      <td>0.0</td>\n",
       "      <td>0.0</td>\n",
       "      <td>0.0</td>\n",
       "      <td>0.0</td>\n",
       "      <td>1.0</td>\n",
       "      <td>0.0</td>\n",
       "      <td>0.0</td>\n",
       "      <td>0.0</td>\n",
       "      <td>0.0</td>\n",
       "      <td>0.0</td>\n",
       "      <td>0.0</td>\n",
       "      <td>0.0</td>\n",
       "      <td>0.0</td>\n",
       "      <td>26613.92</td>\n",
       "    </tr>\n",
       "  </tbody>\n",
       "</table>\n",
       "</div>"
      ],
      "text/plain": [
       "         0         1         2    3    4  ...   43   44   45   46    Result\n",
       "0  0.62561 -0.813848 -0.397234  0.0  0.0  ...  0.0  0.0  0.0  0.0  26613.92\n",
       "\n",
       "[1 rows x 48 columns]"
      ]
     },
     "execution_count": 11,
     "metadata": {},
     "output_type": "execute_result"
    }
   ],
   "source": [
    "df = pd.read_csv('data/car_price_prediction_.csv')\n",
    "df.head(1)\n"
   ]
  },
  {
   "cell_type": "code",
   "execution_count": 15,
   "id": "d535cfe9",
   "metadata": {},
   "outputs": [],
   "source": [
    "x_df = df.iloc[:,:-1]\n",
    "y_df = df.iloc[:,-1]"
   ]
  },
  {
   "cell_type": "code",
   "execution_count": 16,
   "id": "8d61c65f",
   "metadata": {},
   "outputs": [],
   "source": [
    "x_train,x_test,y_train,y_test = train_test_split(x_df,y_df,test_size=0.8)"
   ]
  },
  {
   "cell_type": "code",
   "execution_count": 31,
   "id": "96a61c25",
   "metadata": {},
   "outputs": [],
   "source": [
    "def evaluate(y_actual,y_predict):\n",
    "    matrix = {\n",
    "        'rmse' : np.sqrt(mean_squared_error(y_true=y_actual,y_pred=y_predict)),\n",
    "        'mae' : mean_absolute_error(y_actual,y_predict),\n",
    "        'r2' : r2_score(y_actual,y_predict)\n",
    "    }\n",
    "    print(f\"Metrics: {matrix['r2']}\")\n",
    "    return sum(matrix.values())"
   ]
  },
  {
   "cell_type": "code",
   "execution_count": 8,
   "id": "1afc8e3c",
   "metadata": {},
   "outputs": [],
   "source": [
    "models = {\n",
    "    'LR' : LinearRegression(),\n",
    "    'Lasso' : Lasso(),\n",
    "    'Ridge' : Ridge(),\n",
    "    'ElasticNet' : ElasticNet(),\n",
    "    'DecisionTree' : DecisionTreeRegressor(),\n",
    "    'RandomForest' : RandomForestRegressor(),\n",
    "    'SVR' : SVR(),\n",
    "    'GradientBoosting' : GradientBoostingRegressor(),\n",
    "    \n",
    "}"
   ]
  },
  {
   "cell_type": "code",
   "execution_count": 32,
   "id": "4dc3c9f5",
   "metadata": {},
   "outputs": [
    {
     "name": "stdout",
     "output_type": "stream",
     "text": [
      "Metrics: -0.07486323926930583\n",
      "Model LR Accuracy: 52386.232804675245\n",
      "\n",
      "Metrics: -0.07441628105936315\n",
      "Model Lasso Accuracy: 52377.20101768115\n",
      "\n",
      "Metrics: -0.06781112528158872\n",
      "Model Ridge Accuracy: 52239.385380424224\n",
      "\n",
      "Metrics: -0.0005517998499884325\n",
      "Model ElasticNet Accuracy: 50871.353767825145\n",
      "\n",
      "Metrics: -0.9738389917723393\n",
      "Model DecisionTree Accuracy: 69588.29298857298\n",
      "\n",
      "Metrics: -0.0722838754336923\n",
      "Model RandomForest Accuracy: 52442.70350237379\n",
      "\n",
      "Metrics: -0.010904226350857638\n",
      "Model SVR Accuracy: 51107.876411572564\n",
      "\n",
      "Metrics: -0.08876540518311193\n",
      "Model GradientBoosting Accuracy: 52681.217374944514\n",
      "\n"
     ]
    }
   ],
   "source": [
    "for i in range(len(list(models))):\n",
    "    model = list(models.values())[i]\n",
    "\n",
    "    model.fit(x_train,y_train)\n",
    "    y_pred = model.predict(x_test)\n",
    "\n",
    "    accuracy = evaluate(y_test,y_pred)\n",
    "    print(f\"Model {list(models.keys())[i]} Accuracy: {accuracy}\\n\")\n",
    "    \n",
    "\n",
    "    "
   ]
  },
  {
   "cell_type": "code",
   "execution_count": 9,
   "id": "d33454b3",
   "metadata": {},
   "outputs": [
    {
     "data": {
      "text/plain": [
       "8"
      ]
     },
     "execution_count": 9,
     "metadata": {},
     "output_type": "execute_result"
    }
   ],
   "source": [
    "len(list(models))"
   ]
  }
 ],
 "metadata": {
  "kernelspec": {
   "display_name": "myvenv",
   "language": "python",
   "name": "python3"
  },
  "language_info": {
   "codemirror_mode": {
    "name": "ipython",
    "version": 3
   },
   "file_extension": ".py",
   "mimetype": "text/x-python",
   "name": "python",
   "nbconvert_exporter": "python",
   "pygments_lexer": "ipython3",
   "version": "3.12.6"
  }
 },
 "nbformat": 4,
 "nbformat_minor": 5
}
