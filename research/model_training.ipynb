{
 "cells": [
  {
   "cell_type": "code",
   "execution_count": 2,
   "id": "a9db8f43",
   "metadata": {},
   "outputs": [
    {
     "data": {
      "text/plain": [
       "'d:\\\\ML_MODEL\\\\MLOPS_PROJECT\\\\project_youtube_3\\\\COmplete_ML_Pipeline\\\\complete-ml-pipeline\\\\research'"
      ]
     },
     "execution_count": 2,
     "metadata": {},
     "output_type": "execute_result"
    }
   ],
   "source": [
    "import os \n",
    "os.getcwd()"
   ]
  },
  {
   "cell_type": "code",
   "execution_count": 3,
   "id": "8f389b28",
   "metadata": {},
   "outputs": [],
   "source": [
    "os.chdir(\"..\")"
   ]
  },
  {
   "cell_type": "code",
   "execution_count": 4,
   "id": "9c09f19c",
   "metadata": {},
   "outputs": [
    {
     "data": {
      "text/plain": [
       "'d:\\\\ML_MODEL\\\\MLOPS_PROJECT\\\\project_youtube_3\\\\COmplete_ML_Pipeline\\\\complete-ml-pipeline'"
      ]
     },
     "execution_count": 4,
     "metadata": {},
     "output_type": "execute_result"
    }
   ],
   "source": [
    "os.getcwd()"
   ]
  },
  {
   "cell_type": "code",
   "execution_count": 16,
   "id": "05d13ba3",
   "metadata": {},
   "outputs": [],
   "source": [
    "import numpy as np \n",
    "import pandas as pd\n",
    "import yaml\n"
   ]
  },
  {
   "cell_type": "code",
   "execution_count": 6,
   "id": "d023d892",
   "metadata": {},
   "outputs": [],
   "source": [
    "from sklearn.linear_model import LinearRegression,ElasticNet,Ridge,Lasso\n",
    "from sklearn.tree import DecisionTreeRegressor\n",
    "from sklearn.svm import SVR\n",
    "from sklearn.ensemble import RandomForestRegressor,GradientBoostingRegressor\n",
    "from sklearn.model_selection import GridSearchCV\n",
    "\n",
    "from sklearn.metrics import mean_squared_error,r2_score,mean_absolute_error\n",
    "from sklearn.model_selection import train_test_split"
   ]
  },
  {
   "cell_type": "code",
   "execution_count": 7,
   "id": "f4fd5f08",
   "metadata": {},
   "outputs": [
    {
     "data": {
      "text/html": [
       "<div>\n",
       "<style scoped>\n",
       "    .dataframe tbody tr th:only-of-type {\n",
       "        vertical-align: middle;\n",
       "    }\n",
       "\n",
       "    .dataframe tbody tr th {\n",
       "        vertical-align: top;\n",
       "    }\n",
       "\n",
       "    .dataframe thead th {\n",
       "        text-align: right;\n",
       "    }\n",
       "</style>\n",
       "<table border=\"1\" class=\"dataframe\">\n",
       "  <thead>\n",
       "    <tr style=\"text-align: right;\">\n",
       "      <th></th>\n",
       "      <th>0</th>\n",
       "      <th>1</th>\n",
       "      <th>2</th>\n",
       "      <th>3</th>\n",
       "      <th>4</th>\n",
       "      <th>5</th>\n",
       "      <th>6</th>\n",
       "      <th>7</th>\n",
       "      <th>8</th>\n",
       "      <th>9</th>\n",
       "      <th>...</th>\n",
       "      <th>38</th>\n",
       "      <th>39</th>\n",
       "      <th>40</th>\n",
       "      <th>41</th>\n",
       "      <th>42</th>\n",
       "      <th>43</th>\n",
       "      <th>44</th>\n",
       "      <th>45</th>\n",
       "      <th>46</th>\n",
       "      <th>Result</th>\n",
       "    </tr>\n",
       "  </thead>\n",
       "  <tbody>\n",
       "    <tr>\n",
       "      <th>0</th>\n",
       "      <td>0.62561</td>\n",
       "      <td>-0.813848</td>\n",
       "      <td>-0.397234</td>\n",
       "      <td>0.0</td>\n",
       "      <td>0.0</td>\n",
       "      <td>0.0</td>\n",
       "      <td>0.0</td>\n",
       "      <td>0.0</td>\n",
       "      <td>1.0</td>\n",
       "      <td>0.0</td>\n",
       "      <td>...</td>\n",
       "      <td>1.0</td>\n",
       "      <td>0.0</td>\n",
       "      <td>0.0</td>\n",
       "      <td>0.0</td>\n",
       "      <td>0.0</td>\n",
       "      <td>0.0</td>\n",
       "      <td>0.0</td>\n",
       "      <td>0.0</td>\n",
       "      <td>0.0</td>\n",
       "      <td>26613.92</td>\n",
       "    </tr>\n",
       "  </tbody>\n",
       "</table>\n",
       "<p>1 rows × 48 columns</p>\n",
       "</div>"
      ],
      "text/plain": [
       "         0         1         2    3    4    5    6    7    8    9  ...   38  \\\n",
       "0  0.62561 -0.813848 -0.397234  0.0  0.0  0.0  0.0  0.0  1.0  0.0  ...  1.0   \n",
       "\n",
       "    39   40   41   42   43   44   45   46    Result  \n",
       "0  0.0  0.0  0.0  0.0  0.0  0.0  0.0  0.0  26613.92  \n",
       "\n",
       "[1 rows x 48 columns]"
      ]
     },
     "execution_count": 7,
     "metadata": {},
     "output_type": "execute_result"
    }
   ],
   "source": [
    "df = pd.read_csv('data/car_price_prediction_.csv')\n",
    "df.head(1)\n"
   ]
  },
  {
   "cell_type": "code",
   "execution_count": 8,
   "id": "d535cfe9",
   "metadata": {},
   "outputs": [],
   "source": [
    "x_df = df.iloc[:,:-1]\n",
    "y_df = df.iloc[:,-1]"
   ]
  },
  {
   "cell_type": "code",
   "execution_count": 9,
   "id": "8d61c65f",
   "metadata": {},
   "outputs": [],
   "source": [
    "x_train,x_test,y_train,y_test = train_test_split(x_df,y_df,test_size=0.2)"
   ]
  },
  {
   "cell_type": "code",
   "execution_count": null,
   "id": "c5be7387",
   "metadata": {},
   "outputs": [],
   "source": []
  },
  {
   "cell_type": "code",
   "execution_count": 10,
   "id": "96a61c25",
   "metadata": {},
   "outputs": [],
   "source": [
    "def evaluate(y_actual,y_predict):\n",
    "    matrix = {\n",
    "        'rmse' : np.sqrt(mean_squared_error(y_true=y_actual,y_pred=y_predict)),\n",
    "        'mae' : mean_absolute_error(y_actual,y_predict),\n",
    "        'r2' : r2_score(y_actual,y_predict)\n",
    "    }\n",
    "    print(f\"Metrics: {matrix['r2']}\")\n",
    "    return sum(matrix.values())"
   ]
  },
  {
   "cell_type": "code",
   "execution_count": 11,
   "id": "1afc8e3c",
   "metadata": {},
   "outputs": [],
   "source": [
    "models = {\n",
    "    'LR' : LinearRegression(),\n",
    "    'Lasso' : Lasso(),\n",
    "    'Ridge' : Ridge(),\n",
    "    'ElasticNet' : ElasticNet(),\n",
    "    'DecisionTree' : DecisionTreeRegressor(),\n",
    "    'RandomForest' : RandomForestRegressor(),\n",
    "    'SVR' : SVR(),\n",
    "    'GradientBoosting' : GradientBoostingRegressor(),\n",
    "    \n",
    "}"
   ]
  },
  {
   "cell_type": "code",
   "execution_count": 18,
   "id": "8e2eb7bd",
   "metadata": {},
   "outputs": [],
   "source": [
    "params = {\n",
    "    'LR':{\n",
    "        'fit_intercept' : [True]\n",
    "\n",
    "    },\n",
    "    'Lasso' : {\n",
    "        'alpha' :[1,3],\n",
    "        'max_iter' : [1000,1200]\n",
    "    },\n",
    "    'Ridge' : {\n",
    "        'alpha' : [1,5],\n",
    "    },\n",
    "    'ElasticNet' : {\n",
    "        'alpha' : [1,3],\n",
    "        'l1_ratio' : [0.5,0.7]\n",
    "    },\n",
    "    'DT' : {\n",
    "        'max_depth' : [5,6],\n",
    "        'criterion' : ['squared_error','absolute_error'],\n",
    "        'max_leaf_nodes' : [10,20]\n",
    "    },\n",
    "    'RF' : {\n",
    "        'n_estimators' : [10,20],\n",
    "        'criterion' : ['squared_error','absolute_error'],\n",
    "        'max_depth' : [4,5]\n",
    "    },\n",
    "    'SVM' : {\n",
    "        'kernel' : ['poly', 'rbf', 'sigmoid'],\n",
    "        'gamma' : ['scale', 'auto'],\n",
    "        'verbose' : [True] \n",
    "    },\n",
    "    'GBM' : {}\n",
    "}\n",
    "\n",
    "with open('model_param.yaml', 'w') as f:\n",
    "   yaml.safe_dump(params,f)"
   ]
  },
  {
   "cell_type": "code",
   "execution_count": 13,
   "id": "eb3fba9e",
   "metadata": {},
   "outputs": [
    {
     "data": {
      "text/html": [
       "<pre style=\"white-space:pre;overflow-x:auto;line-height:normal;font-family:Menlo,'DejaVu Sans Mono',consolas,'Courier New',monospace\">Accessing as amankumarchy5423\n",
       "</pre>\n"
      ],
      "text/plain": [
       "Accessing as amankumarchy5423\n"
      ]
     },
     "metadata": {},
     "output_type": "display_data"
    },
    {
     "data": {
      "text/html": [
       "<pre style=\"white-space:pre;overflow-x:auto;line-height:normal;font-family:Menlo,'DejaVu Sans Mono',consolas,'Courier New',monospace\">Initialized MLflow to track repo <span style=\"color: #008000; text-decoration-color: #008000\">\"amankumarchy5423/complete-ml-pipeline\"</span>\n",
       "</pre>\n"
      ],
      "text/plain": [
       "Initialized MLflow to track repo \u001b[32m\"amankumarchy5423/complete-ml-pipeline\"\u001b[0m\n"
      ]
     },
     "metadata": {},
     "output_type": "display_data"
    },
    {
     "data": {
      "text/html": [
       "<pre style=\"white-space:pre;overflow-x:auto;line-height:normal;font-family:Menlo,'DejaVu Sans Mono',consolas,'Courier New',monospace\">Repository amankumarchy5423/complete-ml-pipeline initialized!\n",
       "</pre>\n"
      ],
      "text/plain": [
       "Repository amankumarchy5423/complete-ml-pipeline initialized!\n"
      ]
     },
     "metadata": {},
     "output_type": "display_data"
    },
    {
     "name": "stdout",
     "output_type": "stream",
     "text": [
      "🏃 View run selective-ram-259 at: https://dagshub.com/amankumarchy5423/complete-ml-pipeline.mlflow/#/experiments/0/runs/b1bbd92951e546758e755a6571436c5f\n",
      "🧪 View experiment at: https://dagshub.com/amankumarchy5423/complete-ml-pipeline.mlflow/#/experiments/0\n"
     ]
    }
   ],
   "source": [
    "# import mlflow\n",
    "\n",
    "# mlflow.set_tracking_uri('https://dagshub.com/amankumarchy5423/complete-ml-pipeline.mlflow')\n",
    "# mlflow.set_experiment('complete-ml-pipeline')\n",
    "\n",
    "import dagshub\n",
    "dagshub.init(repo_owner='amankumarchy5423', repo_name='complete-ml-pipeline', mlflow=True)\n",
    "\n",
    "import mlflow\n",
    "with mlflow.start_run():\n",
    "  mlflow.log_param('parameter name', 'value')\n",
    "  mlflow.log_metric('metric name', 1)\n"
   ]
  },
  {
   "cell_type": "code",
   "execution_count": null,
   "id": "4dc3c9f5",
   "metadata": {},
   "outputs": [],
   "source": [
    "# mlflow.autolog()\n",
    "mlflow.set_experiment(\"my_experiment\")\n",
    "for i in range(len(list(models))):\n",
    "    model = list(models.values())[i]\n",
    "    model_name = list(models.keys())[i]\n",
    "    model_params = params.get(list(models.keys())[i], {})\n",
    "\n",
    "    with mlflow.start_run(run_name=f\"{model_name}_run\") as parent:\n",
    "        grid = GridSearchCV(model, model_params, cv=5)\n",
    "        grid.fit(x_train, y_train)\n",
    "\n",
    "        for i in range (len(grid.cv_results_['params'])):\n",
    "            with mlflow.start_run(run_name=f\"{model_name}_run\") as child:\n",
    "                mlflow.log_param(grid.cv_results_['params'][i])\n",
    "\n",
    "                y_pred = grid.predict(x_test)\n",
    "                accuracy = evaluate(y_test, y_pred)\n",
    "                mlflow.log_metric(\"accuracy\", accuracy)\n",
    "\n",
    "                print(f\"Model {model_name} Accuracy: {accuracy}\\n\")\n",
    "                \n",
    "    mlflow.sklearn.log_model(grid.best_estimator_, \"model\", registered_model_name=\"complete-ml-model\")\n",
    "\n",
    "        # mlflow.sklearn.log_model(grid.best_estimator_, artifact_path=\"best_model\")\n",
    "\n",
    "    "
   ]
  },
  {
   "cell_type": "code",
   "execution_count": null,
   "id": "e45a1707",
   "metadata": {},
   "outputs": [
    {
     "name": "stdout",
     "output_type": "stream",
     "text": [
      "Fitting 5 folds for each of 1 candidates, totalling 5 fits\n",
      "[CV] END .................................fit_intercept=True; total time=   0.0s\n",
      "[CV] END .................................fit_intercept=True; total time=   0.0s\n",
      "[CV] END .................................fit_intercept=True; total time=   0.0s\n",
      "[CV] END .................................fit_intercept=True; total time=   0.0s\n",
      "[CV] END .................................fit_intercept=True; total time=   0.0s\n",
      "Metrics: -0.02318070589058352\n",
      "Model LR Accuracy: 52062.55324465333\n",
      "\n",
      "🏃 View run LR_child_run at: https://dagshub.com/amankumarchy5423/complete-ml-pipeline.mlflow/#/experiments/0/runs/7b952926e7ea45f791baf0d66dc1ba1a\n",
      "🧪 View experiment at: https://dagshub.com/amankumarchy5423/complete-ml-pipeline.mlflow/#/experiments/0\n",
      "🏃 View run LR_parent_run at: https://dagshub.com/amankumarchy5423/complete-ml-pipeline.mlflow/#/experiments/0/runs/07c14d296b7d4486bf88a91696af7874\n",
      "🧪 View experiment at: https://dagshub.com/amankumarchy5423/complete-ml-pipeline.mlflow/#/experiments/0\n",
      "Fitting 5 folds for each of 4 candidates, totalling 20 fits\n",
      "[CV] END .............................alpha=1, max_iter=1000; total time=   0.0s\n",
      "[CV] END .............................alpha=1, max_iter=1000; total time=   0.0s\n",
      "[CV] END .............................alpha=1, max_iter=1000; total time=   0.0s\n",
      "[CV] END .............................alpha=1, max_iter=1000; total time=   0.0s\n",
      "[CV] END .............................alpha=1, max_iter=1000; total time=   0.0s\n",
      "[CV] END .............................alpha=1, max_iter=1200; total time=   0.0s\n",
      "[CV] END .............................alpha=1, max_iter=1200; total time=   0.0s\n",
      "[CV] END .............................alpha=1, max_iter=1200; total time=   0.0s\n",
      "[CV] END .............................alpha=1, max_iter=1200; total time=   0.0s\n",
      "[CV] END .............................alpha=1, max_iter=1200; total time=   0.0s\n",
      "[CV] END .............................alpha=3, max_iter=1000; total time=   0.0s\n",
      "[CV] END .............................alpha=3, max_iter=1000; total time=   0.0s\n",
      "[CV] END .............................alpha=3, max_iter=1000; total time=   0.0s\n",
      "[CV] END .............................alpha=3, max_iter=1000; total time=   0.0s\n",
      "[CV] END .............................alpha=3, max_iter=1000; total time=   0.0s\n",
      "[CV] END .............................alpha=3, max_iter=1200; total time=   0.0s\n",
      "[CV] END .............................alpha=3, max_iter=1200; total time=   0.0s\n",
      "[CV] END .............................alpha=3, max_iter=1200; total time=   0.0s\n",
      "[CV] END .............................alpha=3, max_iter=1200; total time=   0.0s\n",
      "[CV] END .............................alpha=3, max_iter=1200; total time=   0.0s\n",
      "Metrics: -0.02227123393701591\n",
      "Model Lasso Accuracy: 52042.1263256489\n",
      "\n",
      "🏃 View run Lasso_child_run at: https://dagshub.com/amankumarchy5423/complete-ml-pipeline.mlflow/#/experiments/0/runs/d5ecdf425b6b46c9967f5cd6606b0478\n",
      "🧪 View experiment at: https://dagshub.com/amankumarchy5423/complete-ml-pipeline.mlflow/#/experiments/0\n",
      "Metrics: -0.02227123393701591\n",
      "Model Lasso Accuracy: 52042.1263256489\n",
      "\n",
      "🏃 View run Lasso_child_run at: https://dagshub.com/amankumarchy5423/complete-ml-pipeline.mlflow/#/experiments/0/runs/cdef55666960464a895e419c36ab9cbd\n",
      "🧪 View experiment at: https://dagshub.com/amankumarchy5423/complete-ml-pipeline.mlflow/#/experiments/0\n",
      "Metrics: -0.02227123393701591\n",
      "Model Lasso Accuracy: 52042.1263256489\n",
      "\n",
      "🏃 View run Lasso_child_run at: https://dagshub.com/amankumarchy5423/complete-ml-pipeline.mlflow/#/experiments/0/runs/53b73e41cf0449ab8ebcb0258c292a7f\n",
      "🧪 View experiment at: https://dagshub.com/amankumarchy5423/complete-ml-pipeline.mlflow/#/experiments/0\n",
      "Metrics: -0.02227123393701591\n",
      "Model Lasso Accuracy: 52042.1263256489\n",
      "\n",
      "🏃 View run Lasso_child_run at: https://dagshub.com/amankumarchy5423/complete-ml-pipeline.mlflow/#/experiments/0/runs/cf6f0a91dc214ab6aee6a8fd76044280\n",
      "🧪 View experiment at: https://dagshub.com/amankumarchy5423/complete-ml-pipeline.mlflow/#/experiments/0\n",
      "🏃 View run Lasso_parent_run at: https://dagshub.com/amankumarchy5423/complete-ml-pipeline.mlflow/#/experiments/0/runs/eea5afdd8da14a84a7b5781449dabefb\n",
      "🧪 View experiment at: https://dagshub.com/amankumarchy5423/complete-ml-pipeline.mlflow/#/experiments/0\n",
      "Fitting 5 folds for each of 2 candidates, totalling 10 fits\n",
      "[CV] END ............................................alpha=1; total time=   0.0s\n",
      "[CV] END ............................................alpha=1; total time=   0.0s\n",
      "[CV] END ............................................alpha=1; total time=   0.0s\n",
      "[CV] END ............................................alpha=1; total time=   0.0s\n",
      "[CV] END ............................................alpha=1; total time=   0.0s\n",
      "[CV] END ............................................alpha=5; total time=   0.0s\n",
      "[CV] END ............................................alpha=5; total time=   0.0s\n",
      "[CV] END ............................................alpha=5; total time=   0.0s\n",
      "[CV] END ............................................alpha=5; total time=   0.0s\n",
      "[CV] END ............................................alpha=5; total time=   0.0s\n",
      "Metrics: -0.02107122265757111\n",
      "Model Ridge Accuracy: 52016.851428142225\n",
      "\n",
      "🏃 View run Ridge_child_run at: https://dagshub.com/amankumarchy5423/complete-ml-pipeline.mlflow/#/experiments/0/runs/b460df9c397a40cebf555582aad2b1dc\n",
      "🧪 View experiment at: https://dagshub.com/amankumarchy5423/complete-ml-pipeline.mlflow/#/experiments/0\n",
      "Metrics: -0.02107122265757111\n",
      "Model Ridge Accuracy: 52016.851428142225\n",
      "\n",
      "🏃 View run Ridge_child_run at: https://dagshub.com/amankumarchy5423/complete-ml-pipeline.mlflow/#/experiments/0/runs/82501b898a5c468895ec94444b1ae20b\n",
      "🧪 View experiment at: https://dagshub.com/amankumarchy5423/complete-ml-pipeline.mlflow/#/experiments/0\n",
      "🏃 View run Ridge_parent_run at: https://dagshub.com/amankumarchy5423/complete-ml-pipeline.mlflow/#/experiments/0/runs/f069657a735145b89ec0913c23df5d6a\n",
      "🧪 View experiment at: https://dagshub.com/amankumarchy5423/complete-ml-pipeline.mlflow/#/experiments/0\n",
      "Fitting 5 folds for each of 4 candidates, totalling 20 fits\n",
      "[CV] END ..............................alpha=1, l1_ratio=0.5; total time=   0.0s\n",
      "[CV] END ..............................alpha=1, l1_ratio=0.5; total time=   0.0s\n",
      "[CV] END ..............................alpha=1, l1_ratio=0.5; total time=   0.0s\n",
      "[CV] END ..............................alpha=1, l1_ratio=0.5; total time=   0.0s\n",
      "[CV] END ..............................alpha=1, l1_ratio=0.5; total time=   0.0s\n",
      "[CV] END ..............................alpha=1, l1_ratio=0.7; total time=   0.0s\n",
      "[CV] END ..............................alpha=1, l1_ratio=0.7; total time=   0.0s\n",
      "[CV] END ..............................alpha=1, l1_ratio=0.7; total time=   0.0s\n",
      "[CV] END ..............................alpha=1, l1_ratio=0.7; total time=   0.0s\n",
      "[CV] END ..............................alpha=1, l1_ratio=0.7; total time=   0.0s\n",
      "[CV] END ..............................alpha=3, l1_ratio=0.5; total time=   0.0s\n",
      "[CV] END ..............................alpha=3, l1_ratio=0.5; total time=   0.0s\n",
      "[CV] END ..............................alpha=3, l1_ratio=0.5; total time=   0.0s\n",
      "[CV] END ..............................alpha=3, l1_ratio=0.5; total time=   0.0s\n",
      "[CV] END ..............................alpha=3, l1_ratio=0.5; total time=   0.0s\n",
      "[CV] END ..............................alpha=3, l1_ratio=0.7; total time=   0.0s\n",
      "[CV] END ..............................alpha=3, l1_ratio=0.7; total time=   0.0s\n",
      "[CV] END ..............................alpha=3, l1_ratio=0.7; total time=   0.0s\n",
      "[CV] END ..............................alpha=3, l1_ratio=0.7; total time=   0.0s\n",
      "[CV] END ..............................alpha=3, l1_ratio=0.7; total time=   0.0s\n",
      "Metrics: -7.96749416596132e-05\n",
      "Model ElasticNet Accuracy: 51564.99194334411\n",
      "\n",
      "🏃 View run ElasticNet_child_run at: https://dagshub.com/amankumarchy5423/complete-ml-pipeline.mlflow/#/experiments/0/runs/03cdfdfa1a154b76ba0933b86d537417\n",
      "🧪 View experiment at: https://dagshub.com/amankumarchy5423/complete-ml-pipeline.mlflow/#/experiments/0\n",
      "Metrics: -7.96749416596132e-05\n",
      "Model ElasticNet Accuracy: 51564.99194334411\n",
      "\n",
      "🏃 View run ElasticNet_child_run at: https://dagshub.com/amankumarchy5423/complete-ml-pipeline.mlflow/#/experiments/0/runs/9939cd9b8cd4404fa9ff8ed60d0ba857\n",
      "🧪 View experiment at: https://dagshub.com/amankumarchy5423/complete-ml-pipeline.mlflow/#/experiments/0\n",
      "Metrics: -7.96749416596132e-05\n",
      "Model ElasticNet Accuracy: 51564.99194334411\n",
      "\n",
      "🏃 View run ElasticNet_child_run at: https://dagshub.com/amankumarchy5423/complete-ml-pipeline.mlflow/#/experiments/0/runs/66a0f0248cad4af88b64a3a27b2eb1d4\n",
      "🧪 View experiment at: https://dagshub.com/amankumarchy5423/complete-ml-pipeline.mlflow/#/experiments/0\n",
      "Metrics: -7.96749416596132e-05\n",
      "Model ElasticNet Accuracy: 51564.99194334411\n",
      "\n",
      "🏃 View run ElasticNet_child_run at: https://dagshub.com/amankumarchy5423/complete-ml-pipeline.mlflow/#/experiments/0/runs/bb5eff7b62f447ce872d9c26404cf1bc\n",
      "🧪 View experiment at: https://dagshub.com/amankumarchy5423/complete-ml-pipeline.mlflow/#/experiments/0\n",
      "🏃 View run ElasticNet_parent_run at: https://dagshub.com/amankumarchy5423/complete-ml-pipeline.mlflow/#/experiments/0/runs/f78b7d899d4b41129537d4c40077371b\n",
      "🧪 View experiment at: https://dagshub.com/amankumarchy5423/complete-ml-pipeline.mlflow/#/experiments/0\n",
      "Fitting 5 folds for each of 1 candidates, totalling 5 fits\n",
      "[CV] END .................................................... total time=   0.0s\n",
      "[CV] END .................................................... total time=   0.0s\n",
      "[CV] END .................................................... total time=   0.0s\n",
      "[CV] END .................................................... total time=   0.0s\n",
      "[CV] END .................................................... total time=   0.0s\n",
      "Metrics: -1.1392510319995668\n",
      "Model DecisionTree Accuracy: 73468.35036592433\n",
      "\n",
      "🏃 View run DecisionTree_child_run at: https://dagshub.com/amankumarchy5423/complete-ml-pipeline.mlflow/#/experiments/0/runs/15e733b82a0d4161b95e26bf04e05e81\n",
      "🧪 View experiment at: https://dagshub.com/amankumarchy5423/complete-ml-pipeline.mlflow/#/experiments/0\n",
      "🏃 View run DecisionTree_parent_run at: https://dagshub.com/amankumarchy5423/complete-ml-pipeline.mlflow/#/experiments/0/runs/5f9abd8cecb145d7a18829abc6ee7c59\n",
      "🧪 View experiment at: https://dagshub.com/amankumarchy5423/complete-ml-pipeline.mlflow/#/experiments/0\n",
      "Fitting 5 folds for each of 1 candidates, totalling 5 fits\n",
      "[CV] END .................................................... total time=   2.1s\n",
      "[CV] END .................................................... total time=   2.0s\n",
      "[CV] END .................................................... total time=   2.1s\n",
      "[CV] END .................................................... total time=   2.1s\n",
      "[CV] END .................................................... total time=   2.1s\n",
      "Metrics: -0.07514677371593215\n",
      "Model RandomForest Accuracy: 53157.6459994695\n",
      "\n",
      "🏃 View run RandomForest_child_run at: https://dagshub.com/amankumarchy5423/complete-ml-pipeline.mlflow/#/experiments/0/runs/72247c5702b44176b6172a0b1d73dd90\n",
      "🧪 View experiment at: https://dagshub.com/amankumarchy5423/complete-ml-pipeline.mlflow/#/experiments/0\n",
      "🏃 View run RandomForest_parent_run at: https://dagshub.com/amankumarchy5423/complete-ml-pipeline.mlflow/#/experiments/0/runs/046aaa234c6a46fd8cf2cf9a0aec916a\n",
      "🧪 View experiment at: https://dagshub.com/amankumarchy5423/complete-ml-pipeline.mlflow/#/experiments/0\n",
      "Fitting 5 folds for each of 1 candidates, totalling 5 fits\n",
      "[CV] END .................................................... total time=   0.3s\n",
      "[CV] END .................................................... total time=   0.3s\n",
      "[CV] END .................................................... total time=   0.3s\n",
      "[CV] END .................................................... total time=   0.3s\n",
      "[CV] END .................................................... total time=   0.3s\n",
      "Metrics: -0.001550109380061615\n",
      "Model SVR Accuracy: 51575.06276513839\n",
      "\n",
      "🏃 View run SVR_child_run at: https://dagshub.com/amankumarchy5423/complete-ml-pipeline.mlflow/#/experiments/0/runs/250f58f9cabe46788d4e2cb2d7100ef6\n",
      "🧪 View experiment at: https://dagshub.com/amankumarchy5423/complete-ml-pipeline.mlflow/#/experiments/0\n",
      "🏃 View run SVR_parent_run at: https://dagshub.com/amankumarchy5423/complete-ml-pipeline.mlflow/#/experiments/0/runs/f264fb5ed007461eaa78b4ef8faf3a34\n",
      "🧪 View experiment at: https://dagshub.com/amankumarchy5423/complete-ml-pipeline.mlflow/#/experiments/0\n",
      "Fitting 5 folds for each of 1 candidates, totalling 5 fits\n",
      "[CV] END .................................................... total time=   0.4s\n",
      "[CV] END .................................................... total time=   0.4s\n",
      "[CV] END .................................................... total time=   0.4s\n",
      "[CV] END .................................................... total time=   0.5s\n",
      "[CV] END .................................................... total time=   0.3s\n",
      "Metrics: -0.04198334258447134\n",
      "Model GradientBoosting Accuracy: 52546.816864218024\n",
      "\n",
      "🏃 View run GradientBoosting_child_run at: https://dagshub.com/amankumarchy5423/complete-ml-pipeline.mlflow/#/experiments/0/runs/1e376b41429044a2b6063a034649441c\n",
      "🧪 View experiment at: https://dagshub.com/amankumarchy5423/complete-ml-pipeline.mlflow/#/experiments/0\n",
      "🏃 View run GradientBoosting_parent_run at: https://dagshub.com/amankumarchy5423/complete-ml-pipeline.mlflow/#/experiments/0/runs/06e77be6466040f0b3dd76d1cc3f858d\n",
      "🧪 View experiment at: https://dagshub.com/amankumarchy5423/complete-ml-pipeline.mlflow/#/experiments/0\n"
     ]
    },
    {
     "name": "stderr",
     "output_type": "stream",
     "text": [
      "2025/04/18 15:33:06 WARNING mlflow.models.model: Model logged without a signature and input example. Please set `input_example` parameter when logging the model to auto infer the model signature.\n",
      "Successfully registered model 'Best-ml-model'.\n",
      "2025/04/18 15:33:13 INFO mlflow.store.model_registry.abstract_store: Waiting up to 300 seconds for model version to finish creation. Model name: Best-ml-model, version 1\n",
      "Created version '1' of model 'Best-ml-model'.\n",
      "C:\\Users\\HP\\AppData\\Local\\Temp\\ipykernel_12656\\498570374.py:51: FutureWarning: ``mlflow.tracking.client.MlflowClient.get_latest_versions`` is deprecated since 2.9.0. Model registry stages will be removed in a future major release. To learn more about the deprecation of model registry stages, see our migration guide here: https://mlflow.org/docs/latest/model-registry.html#migrating-from-stages\n",
      "  latest_version = client.get_latest_versions(name=registered_model_name, stages=[\"None\"])[-1].version\n",
      "C:\\Users\\HP\\AppData\\Local\\Temp\\ipykernel_12656\\498570374.py:53: FutureWarning: ``mlflow.tracking.client.MlflowClient.transition_model_version_stage`` is deprecated since 2.9.0. Model registry stages will be removed in a future major release. To learn more about the deprecation of model registry stages, see our migration guide here: https://mlflow.org/docs/latest/model-registry.html#migrating-from-stages\n",
      "  client.transition_model_version_stage(\n"
     ]
    },
    {
     "name": "stdout",
     "output_type": "stream",
     "text": [
      "✅ DecisionTree with accuracy 73468.35036592433 promoted to Production!\n"
     ]
    }
   ],
   "source": [
    "import mlflow\n",
    "import mlflow.sklearn\n",
    "from sklearn.model_selection import GridSearchCV\n",
    "from mlflow.tracking import MlflowClient\n",
    "\n",
    "# mlflow.set_experiment(\"my_experimet\")\n",
    "client = MlflowClient()\n",
    "\n",
    "best_score = float('-inf')\n",
    "best_model = None\n",
    "best_model_name = None\n",
    "best_run_id = None\n",
    "\n",
    "\n",
    "\n",
    "for i in range(len(models)):\n",
    "    model = list(models.values())[i]\n",
    "    model_name = list(models.keys())[i]\n",
    "    model_params = params.get(model_name, {})\n",
    "\n",
    "    with mlflow.start_run(run_name=f\"{model_name}_parent_run\") as parent_run:\n",
    "        grid = GridSearchCV(model, model_params, cv=5,verbose=2)\n",
    "        grid.fit(x_train, y_train)\n",
    "\n",
    "        for j in range(len(grid.cv_results_['params'])):\n",
    "            with mlflow.start_run(run_name=f\"{model_name}_child_run\", nested=True) as child_run:\n",
    "                # Log hyperparameters\n",
    "                for param_name, param_value in grid.cv_results_['params'][j].items():\n",
    "                    mlflow.log_param(param_name, param_value)\n",
    "\n",
    "                # Use best estimator to predict\n",
    "                y_pred = grid.predict(x_test)\n",
    "                accuracy = evaluate(y_test, y_pred)\n",
    "                mlflow.log_metric(\"accuracy\", accuracy)\n",
    "\n",
    "                print(f\"Model {model_name} Accuracy: {accuracy}\\n\")\n",
    "\n",
    "                # Save if this is the best model so far\n",
    "                if accuracy > best_score:\n",
    "                    best_score = accuracy\n",
    "                    best_model = grid.best_estimator_\n",
    "                    best_model_name = model_name\n",
    "                    best_run_id = child_run.info.run_id\n",
    "\n",
    "# ✅ Register the best model\n",
    "model_uri = f\"runs:/{best_run_id}/model\"\n",
    "registered_model_name = \"Best-ml-model\"\n",
    "\n",
    "# Log the best model (outside the loop)\n",
    "mlflow.sklearn.log_model(best_model, \"model\", registered_model_name=registered_model_name)\n",
    "\n",
    "# ✅ Automatically promote it to Production\n",
    "latest_version = client.get_latest_versions(name=registered_model_name, stages=[\"None\"])[-1].version\n",
    "\n",
    "client.transition_model_version_stage(\n",
    "    name=registered_model_name,\n",
    "    version=latest_version,\n",
    "    stage=\"Production\",\n",
    "    archive_existing_versions=True\n",
    ")\n",
    "\n",
    "print(f\"✅ {best_model_name} with accuracy {best_score} promoted to Production!\")\n"
   ]
  },
  {
   "cell_type": "code",
   "execution_count": 15,
   "id": "dbf34832",
   "metadata": {},
   "outputs": [
    {
     "name": "stderr",
     "output_type": "stream",
     "text": [
      "d:\\ML_MODEL\\MLOPS_PROJECT\\project_youtube_3\\COmplete_ML_Pipeline\\complete-ml-pipeline\\myvenv\\Lib\\site-packages\\tqdm\\auto.py:21: TqdmWarning: IProgress not found. Please update jupyter and ipywidgets. See https://ipywidgets.readthedocs.io/en/stable/user_install.html\n",
      "  from .autonotebook import tqdm as notebook_tqdm\n",
      "Downloading artifacts: 100%|██████████| 5/5 [00:01<00:00,  4.50it/s]\n"
     ]
    }
   ],
   "source": [
    "model = mlflow.sklearn.load_model(\"models:/Best-ml-model/Production\")\n"
   ]
  },
  {
   "cell_type": "code",
   "execution_count": 37,
   "id": "96afef29",
   "metadata": {},
   "outputs": [
    {
     "name": "stderr",
     "output_type": "stream",
     "text": [
      "Downloading artifacts: 100%|██████████| 5/5 [00:01<00:00,  4.41it/s]\n"
     ]
    }
   ],
   "source": [
    "import mlflow\n",
    "logged_model = 'runs:/40371064a26146f897fe345111ac81fc/best_model'\n",
    "pre_model_uri= 'runs:/44392372c4fc4a4ea15cc8c4481f424d/pre_processor_model'\n",
    "\n",
    "# Load model as a PyFuncModel.\n",
    "# loaded_model = mlflow.sklearn.load_model(logged_model)\n",
    "pre_model = mlflow.sklearn.load_model(pre_model_uri)\n",
    "# y_pred1 = loaded_model.predict(x_test)\n",
    "# accu = r2_score(y_test,y_pred1)\n",
    "# print(accu)\n",
    "\n",
    "\n",
    "# Predict on a Pandas DataFrame.\n"
   ]
  },
  {
   "cell_type": "code",
   "execution_count": 33,
   "id": "efd6522b",
   "metadata": {},
   "outputs": [],
   "source": [
    "import joblib"
   ]
  },
  {
   "cell_type": "code",
   "execution_count": 34,
   "id": "7d29115e",
   "metadata": {},
   "outputs": [],
   "source": [
    "pre_model = joblib.load('my_model/preprocessor.pkl')"
   ]
  },
  {
   "cell_type": "code",
   "execution_count": 35,
   "id": "f9a73b0d",
   "metadata": {},
   "outputs": [
    {
     "name": "stderr",
     "output_type": "stream",
     "text": [
      "2025/04/18 12:31:01 WARNING mlflow.sklearn: Model was missing function: predict. Not logging python_function flavor!\n",
      "2025/04/18 12:31:06 WARNING mlflow.models.model: Model logged without a signature and input example. Please set `input_example` parameter when logging the model to auto infer the model signature.\n"
     ]
    },
    {
     "data": {
      "text/plain": [
       "<mlflow.models.model.ModelInfo at 0x18401311310>"
      ]
     },
     "execution_count": 35,
     "metadata": {},
     "output_type": "execute_result"
    }
   ],
   "source": [
    "mlflow.sklearn.log_model(pre_model,artifact_path='pre_processor_model')"
   ]
  },
  {
   "cell_type": "code",
   "execution_count": null,
   "metadata": {},
   "outputs": [],
   "source": []
  },
  {
   "cell_type": "code",
   "execution_count": null,
   "id": "3dcddcd0",
   "metadata": {},
   "outputs": [],
   "source": []
  },
  {
   "cell_type": "code",
   "execution_count": null,
   "id": "bf8bbf29",
   "metadata": {},
   "outputs": [],
   "source": []
  },
  {
   "cell_type": "code",
   "execution_count": 9,
   "id": "d33454b3",
   "metadata": {},
   "outputs": [
    {
     "data": {
      "text/plain": [
       "8"
      ]
     },
     "execution_count": 9,
     "metadata": {},
     "output_type": "execute_result"
    }
   ],
   "source": [
    "len(list(models))"
   ]
  },
  {
   "cell_type": "code",
   "execution_count": 19,
   "id": "bb27d35e",
   "metadata": {},
   "outputs": [
    {
     "data": {
      "text/plain": [
       "0          0\n",
       "1          0\n",
       "2          0\n",
       "3          0\n",
       "4          0\n",
       "5          0\n",
       "6          0\n",
       "7          0\n",
       "8          0\n",
       "9          0\n",
       "10         0\n",
       "11         0\n",
       "12         0\n",
       "13         0\n",
       "14         0\n",
       "15         0\n",
       "16         0\n",
       "17         0\n",
       "18         0\n",
       "19         0\n",
       "20         0\n",
       "21         0\n",
       "22         0\n",
       "23         0\n",
       "24         0\n",
       "25         0\n",
       "26         0\n",
       "27         0\n",
       "28         0\n",
       "29         0\n",
       "30         0\n",
       "31         0\n",
       "32         0\n",
       "33         0\n",
       "34         0\n",
       "35         0\n",
       "36         0\n",
       "37         0\n",
       "38         0\n",
       "39         0\n",
       "40         0\n",
       "41         0\n",
       "42         0\n",
       "43         0\n",
       "44         0\n",
       "45         0\n",
       "46         0\n",
       "Price    399\n",
       "dtype: int64"
      ]
     },
     "execution_count": 19,
     "metadata": {},
     "output_type": "execute_result"
    }
   ],
   "source": [
    "data = pd.read_csv('Artifact/Data_Transformation/train.csv')\n",
    "data.isnull().sum()"
   ]
  }
 ],
 "metadata": {
  "kernelspec": {
   "display_name": "myvenv",
   "language": "python",
   "name": "python3"
  },
  "language_info": {
   "codemirror_mode": {
    "name": "ipython",
    "version": 3
   },
   "file_extension": ".py",
   "mimetype": "text/x-python",
   "name": "python",
   "nbconvert_exporter": "python",
   "pygments_lexer": "ipython3",
   "version": "3.12.6"
  }
 },
 "nbformat": 4,
 "nbformat_minor": 5
}
