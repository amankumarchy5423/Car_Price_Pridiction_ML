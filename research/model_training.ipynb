{
 "cells": [
  {
   "cell_type": "code",
   "execution_count": null,
   "id": "a9db8f43",
   "metadata": {},
   "outputs": [
    {
     "data": {
      "text/plain": [
       "'d:\\\\ML_MODEL\\\\MLOPS_PROJECT\\\\project_youtube_3\\\\COmplete_ML_Pipeline\\\\complete-ml-pipeline\\\\research'"
      ]
     },
     "execution_count": 1,
     "metadata": {},
     "output_type": "execute_result"
    }
   ],
   "source": [
    "import os \n",
    "os.getcwd()"
   ]
  },
  {
   "cell_type": "code",
   "execution_count": 3,
   "id": "8f389b28",
   "metadata": {},
   "outputs": [],
   "source": [
    "import os\n",
    "os.chdir(\"..\")"
   ]
  },
  {
   "cell_type": "code",
   "execution_count": 4,
   "id": "9c09f19c",
   "metadata": {},
   "outputs": [
    {
     "data": {
      "text/plain": [
       "'d:\\\\ML_MODEL\\\\MLOPS_PROJECT\\\\project_youtube_3\\\\COmplete_ML_Pipeline\\\\complete-ml-pipeline'"
      ]
     },
     "execution_count": 4,
     "metadata": {},
     "output_type": "execute_result"
    }
   ],
   "source": [
    "os.getcwd()"
   ]
  },
  {
   "cell_type": "code",
   "execution_count": 5,
   "id": "05d13ba3",
   "metadata": {},
   "outputs": [],
   "source": [
    "import numpy as np \n",
    "import pandas as pd\n",
    "import yaml\n"
   ]
  },
  {
   "cell_type": "code",
   "execution_count": 5,
   "id": "d023d892",
   "metadata": {},
   "outputs": [],
   "source": [
    "from sklearn.linear_model import LinearRegression,ElasticNet,Ridge,Lasso\n",
    "from sklearn.tree import DecisionTreeRegressor\n",
    "from sklearn.svm import SVR\n",
    "from sklearn.ensemble import RandomForestRegressor,GradientBoostingRegressor\n",
    "from sklearn.model_selection import GridSearchCV\n",
    "\n",
    "from sklearn.metrics import mean_squared_error,r2_score,mean_absolute_error\n",
    "from sklearn.model_selection import train_test_split"
   ]
  },
  {
   "cell_type": "code",
   "execution_count": 6,
   "id": "f4fd5f08",
   "metadata": {},
   "outputs": [
    {
     "data": {
      "text/html": [
       "<div>\n",
       "<style scoped>\n",
       "    .dataframe tbody tr th:only-of-type {\n",
       "        vertical-align: middle;\n",
       "    }\n",
       "\n",
       "    .dataframe tbody tr th {\n",
       "        vertical-align: top;\n",
       "    }\n",
       "\n",
       "    .dataframe thead th {\n",
       "        text-align: right;\n",
       "    }\n",
       "</style>\n",
       "<table border=\"1\" class=\"dataframe\">\n",
       "  <thead>\n",
       "    <tr style=\"text-align: right;\">\n",
       "      <th></th>\n",
       "      <th>0</th>\n",
       "      <th>1</th>\n",
       "      <th>2</th>\n",
       "      <th>3</th>\n",
       "      <th>4</th>\n",
       "      <th>5</th>\n",
       "      <th>6</th>\n",
       "      <th>7</th>\n",
       "      <th>8</th>\n",
       "      <th>9</th>\n",
       "      <th>...</th>\n",
       "      <th>38</th>\n",
       "      <th>39</th>\n",
       "      <th>40</th>\n",
       "      <th>41</th>\n",
       "      <th>42</th>\n",
       "      <th>43</th>\n",
       "      <th>44</th>\n",
       "      <th>45</th>\n",
       "      <th>46</th>\n",
       "      <th>Result</th>\n",
       "    </tr>\n",
       "  </thead>\n",
       "  <tbody>\n",
       "    <tr>\n",
       "      <th>0</th>\n",
       "      <td>0.62561</td>\n",
       "      <td>-0.813848</td>\n",
       "      <td>-0.397234</td>\n",
       "      <td>0.0</td>\n",
       "      <td>0.0</td>\n",
       "      <td>0.0</td>\n",
       "      <td>0.0</td>\n",
       "      <td>0.0</td>\n",
       "      <td>1.0</td>\n",
       "      <td>0.0</td>\n",
       "      <td>...</td>\n",
       "      <td>1.0</td>\n",
       "      <td>0.0</td>\n",
       "      <td>0.0</td>\n",
       "      <td>0.0</td>\n",
       "      <td>0.0</td>\n",
       "      <td>0.0</td>\n",
       "      <td>0.0</td>\n",
       "      <td>0.0</td>\n",
       "      <td>0.0</td>\n",
       "      <td>26613.92</td>\n",
       "    </tr>\n",
       "  </tbody>\n",
       "</table>\n",
       "<p>1 rows × 48 columns</p>\n",
       "</div>"
      ],
      "text/plain": [
       "         0         1         2    3    4    5    6    7    8    9  ...   38  \\\n",
       "0  0.62561 -0.813848 -0.397234  0.0  0.0  0.0  0.0  0.0  1.0  0.0  ...  1.0   \n",
       "\n",
       "    39   40   41   42   43   44   45   46    Result  \n",
       "0  0.0  0.0  0.0  0.0  0.0  0.0  0.0  0.0  26613.92  \n",
       "\n",
       "[1 rows x 48 columns]"
      ]
     },
     "execution_count": 6,
     "metadata": {},
     "output_type": "execute_result"
    }
   ],
   "source": [
    "df = pd.read_csv('data/car_price_prediction_.csv')\n",
    "df.head(1)\n"
   ]
  },
  {
   "cell_type": "code",
   "execution_count": 8,
   "id": "d535cfe9",
   "metadata": {},
   "outputs": [],
   "source": [
    "x_df = df.iloc[:,:-1]\n",
    "y_df = df.iloc[:,-1]"
   ]
  },
  {
   "cell_type": "code",
   "execution_count": 9,
   "id": "8d61c65f",
   "metadata": {},
   "outputs": [],
   "source": [
    "x_train,x_test,y_train,y_test = train_test_split(x_df,y_df,test_size=0.2)"
   ]
  },
  {
   "cell_type": "code",
   "execution_count": null,
   "id": "c5be7387",
   "metadata": {},
   "outputs": [],
   "source": []
  },
  {
   "cell_type": "code",
   "execution_count": 10,
   "id": "96a61c25",
   "metadata": {},
   "outputs": [],
   "source": [
    "def evaluate(y_actual,y_predict):\n",
    "    matrix = {\n",
    "        'rmse' : np.sqrt(mean_squared_error(y_true=y_actual,y_pred=y_predict)),\n",
    "        'mae' : mean_absolute_error(y_actual,y_predict),\n",
    "        'r2' : r2_score(y_actual,y_predict)\n",
    "    }\n",
    "    print(f\"Metrics: {matrix['r2']}\")\n",
    "    return sum(matrix.values())"
   ]
  },
  {
   "cell_type": "code",
   "execution_count": 11,
   "id": "1afc8e3c",
   "metadata": {},
   "outputs": [],
   "source": [
    "models = {\n",
    "    'LR' : LinearRegression(),\n",
    "    'Lasso' : Lasso(),\n",
    "    'Ridge' : Ridge(),\n",
    "    'ElasticNet' : ElasticNet(),\n",
    "    'DecisionTree' : DecisionTreeRegressor(),\n",
    "    'RandomForest' : RandomForestRegressor(),\n",
    "    'SVR' : SVR(),\n",
    "    'GradientBoosting' : GradientBoostingRegressor(),\n",
    "    \n",
    "}"
   ]
  },
  {
   "cell_type": "code",
   "execution_count": 18,
   "id": "8e2eb7bd",
   "metadata": {},
   "outputs": [],
   "source": [
    "params = {\n",
    "    'LR':{\n",
    "        'fit_intercept' : [True]\n",
    "\n",
    "    },\n",
    "    'Lasso' : {\n",
    "        'alpha' :[1,3],\n",
    "        'max_iter' : [1000,1200]\n",
    "    },\n",
    "    'Ridge' : {\n",
    "        'alpha' : [1,5],\n",
    "    },\n",
    "    'ElasticNet' : {\n",
    "        'alpha' : [1,3],\n",
    "        'l1_ratio' : [0.5,0.7]\n",
    "    },\n",
    "    'DT' : {\n",
    "        'max_depth' : [5,6],\n",
    "        'criterion' : ['squared_error','absolute_error'],\n",
    "        'max_leaf_nodes' : [10,20]\n",
    "    },\n",
    "    'RF' : {\n",
    "        'n_estimators' : [10,20],\n",
    "        'criterion' : ['squared_error','absolute_error'],\n",
    "        'max_depth' : [4,5]\n",
    "    },\n",
    "    'SVM' : {\n",
    "        'kernel' : ['poly', 'rbf', 'sigmoid'],\n",
    "        'gamma' : ['scale', 'auto'],\n",
    "        'verbose' : [True] \n",
    "    },\n",
    "    'GBM' : {}\n",
    "}\n",
    "\n",
    "with open('model_param.yaml', 'w') as f:\n",
    "   yaml.safe_dump(params,f)"
   ]
  },
  {
   "cell_type": "code",
   "execution_count": null,
   "id": "eb3fba9e",
   "metadata": {},
   "outputs": [
    {
     "data": {
      "text/html": [
       "<pre style=\"white-space:pre;overflow-x:auto;line-height:normal;font-family:Menlo,'DejaVu Sans Mono',consolas,'Courier New',monospace\">Accessing as amankumarchy5423\n",
       "</pre>\n"
      ],
      "text/plain": [
       "Accessing as amankumarchy5423\n"
      ]
     },
     "metadata": {},
     "output_type": "display_data"
    },
    {
     "data": {
      "text/html": [
       "<pre style=\"white-space:pre;overflow-x:auto;line-height:normal;font-family:Menlo,'DejaVu Sans Mono',consolas,'Courier New',monospace\">Initialized MLflow to track repo <span style=\"color: #008000; text-decoration-color: #008000\">\"amankumarchy5423/complete-ml-pipeline\"</span>\n",
       "</pre>\n"
      ],
      "text/plain": [
       "Initialized MLflow to track repo \u001b[32m\"amankumarchy5423/complete-ml-pipeline\"\u001b[0m\n"
      ]
     },
     "metadata": {},
     "output_type": "display_data"
    },
    {
     "data": {
      "text/html": [
       "<pre style=\"white-space:pre;overflow-x:auto;line-height:normal;font-family:Menlo,'DejaVu Sans Mono',consolas,'Courier New',monospace\">Repository amankumarchy5423/complete-ml-pipeline initialized!\n",
       "</pre>\n"
      ],
      "text/plain": [
       "Repository amankumarchy5423/complete-ml-pipeline initialized!\n"
      ]
     },
     "metadata": {},
     "output_type": "display_data"
    }
   ],
   "source": [
    "import mlflow\n",
    "\n",
    "mlflow.set_tracking_uri('https://dagshub.com/amankumarchy5423/complete-ml-pipeline.mlflow')\n",
    "# mlflow.set_experiment('complete-ml-pipeline')\n",
    "\n",
    "import dagshub\n",
    "dagshub.init(repo_owner='amankumarchy5423', repo_name='complete-ml-pipeline', mlflow=True)\n",
    "\n",
    "# import mlflow\n",
    "# with mlflow.start_run():\n",
    "#   mlflow.log_param('parameter name', 'value')\n",
    "#   mlflow.log_metric('metric name', 1)\n"
   ]
  },
  {
   "cell_type": "code",
   "execution_count": null,
   "id": "4dc3c9f5",
   "metadata": {},
   "outputs": [],
   "source": [
    "# mlflow.autolog()\n",
    "mlflow.set_experiment(\"my_experiment\")\n",
    "for i in range(len(list(models))):\n",
    "    model = list(models.values())[i]\n",
    "    model_name = list(models.keys())[i]\n",
    "    model_params = params.get(list(models.keys())[i], {})\n",
    "\n",
    "    with mlflow.start_run(run_name=f\"{model_name}_run\") as parent:\n",
    "        grid = GridSearchCV(model, model_params, cv=5)\n",
    "        grid.fit(x_train, y_train)\n",
    "\n",
    "        for i in range (len(grid.cv_results_['params'])):\n",
    "            with mlflow.start_run(run_name=f\"{model_name}_run\") as child:\n",
    "                mlflow.log_param(grid.cv_results_['params'][i])\n",
    "\n",
    "                y_pred = grid.predict(x_test)\n",
    "                accuracy = evaluate(y_test, y_pred)\n",
    "                mlflow.log_metric(\"accuracy\", accuracy)\n",
    "\n",
    "                print(f\"Model {model_name} Accuracy: {accuracy}\\n\")\n",
    "                \n",
    "    mlflow.sklearn.log_model(grid.best_estimator_, \"model\", registered_model_name=\"complete-ml-model\")\n",
    "\n",
    "        # mlflow.sklearn.log_model(grid.best_estimator_, artifact_path=\"best_model\")\n",
    "\n",
    "    "
   ]
  },
  {
   "cell_type": "code",
   "execution_count": null,
   "id": "e45a1707",
   "metadata": {},
   "outputs": [],
   "source": [
    "import mlflow\n",
    "import mlflow.sklearn\n",
    "from sklearn.model_selection import GridSearchCV\n",
    "from mlflow.tracking import MlflowClient\n",
    "\n",
    "# mlflow.set_experiment(\"my_experimet\")\n",
    "client = MlflowClient()\n",
    "\n",
    "best_score = float('-inf')\n",
    "best_model = None\n",
    "best_model_name = None\n",
    "best_run_id = None\n",
    "\n",
    "\n",
    "\n",
    "for i in range(len(models)):\n",
    "    model = list(models.values())[i]\n",
    "    model_name = list(models.keys())[i]\n",
    "    model_params = params.get(model_name, {})\n",
    "\n",
    "    with mlflow.start_run(run_name=f\"{model_name}_parent_run\") as parent_run:\n",
    "        grid = GridSearchCV(model, model_params, cv=5,verbose=2)\n",
    "        grid.fit(x_train, y_train)\n",
    "\n",
    "        for j in range(len(grid.cv_results_['params'])):\n",
    "            with mlflow.start_run(run_name=f\"{model_name}_child_run\", nested=True) as child_run:\n",
    "                # Log hyperparameters\n",
    "                for param_name, param_value in grid.cv_results_['params'][j].items():\n",
    "                    mlflow.log_param(param_name, param_value)\n",
    "\n",
    "                # Use best estimator to predict\n",
    "                y_pred = grid.predict(x_test)\n",
    "                accuracy = evaluate(y_test, y_pred)\n",
    "                mlflow.log_metric(\"accuracy\", accuracy)\n",
    "\n",
    "                print(f\"Model {model_name} Accuracy: {accuracy}\\n\")\n",
    "\n",
    "                # Save if this is the best model so far\n",
    "                if accuracy > best_score:\n",
    "                    best_score = accuracy\n",
    "                    best_model = grid.best_estimator_\n",
    "                    best_model_name = model_name\n",
    "                    best_run_id = child_run.info.run_id\n",
    "\n",
    "# ✅ Register the best model\n",
    "model_uri = f\"runs:/{best_run_id}/model\"\n",
    "registered_model_name = \"Best-ml-model\"\n",
    "\n",
    "# Log the best model (outside the loop)\n",
    "mlflow.sklearn.log_model(best_model, \"model\", registered_model_name=registered_model_name)\n",
    "\n",
    "# ✅ Automatically promote it to Production\n",
    "latest_version = client.get_latest_versions(name=registered_model_name, stages=[\"None\"])[-1].version\n",
    "\n",
    "client.transition_model_version_stage(\n",
    "    name=registered_model_name,\n",
    "    version=latest_version,\n",
    "    stage=\"Production\",\n",
    "    archive_existing_versions=True\n",
    ")\n",
    "\n",
    "print(f\"✅ {best_model_name} with accuracy {best_score} promoted to Production!\")\n"
   ]
  },
  {
   "cell_type": "code",
   "execution_count": 2,
   "id": "7eed8496",
   "metadata": {},
   "outputs": [],
   "source": [
    "import mlflow\n",
    "mlflow.set_tracking_uri('https://dagshub.com/amankumarchy5423/complete-ml-pipeline.mlflow')\n"
   ]
  },
  {
   "cell_type": "code",
   "execution_count": null,
   "id": "dbf34832",
   "metadata": {},
   "outputs": [
    {
     "data": {
      "application/vnd.jupyter.widget-view+json": {
       "model_id": "ac3078ff675140e882ffdbcaa0c8898c",
       "version_major": 2,
       "version_minor": 0
      },
      "text/plain": [
       "Downloading artifacts:   0%|          | 0/1 [00:00<?, ?it/s]"
      ]
     },
     "metadata": {},
     "output_type": "display_data"
    }
   ],
   "source": [
    "# ml_model = mlflow.sklearn.load_model(\"models:/Best-ml-model/Production\")\n",
    "pre_model = mlflow.sklearn.load_model(\"models:/preprocessor/Production\")\n"
   ]
  },
  {
   "cell_type": "code",
   "execution_count": 1,
   "id": "96afef29",
   "metadata": {},
   "outputs": [
    {
     "ename": "MlflowException",
     "evalue": "Run '40371064a26146f897fe345111ac81fc' not found",
     "output_type": "error",
     "traceback": [
      "\u001b[31m---------------------------------------------------------------------------\u001b[39m",
      "\u001b[31mMlflowException\u001b[39m                           Traceback (most recent call last)",
      "\u001b[36mCell\u001b[39m\u001b[36m \u001b[39m\u001b[32mIn[1]\u001b[39m\u001b[32m, line 6\u001b[39m\n\u001b[32m      3\u001b[39m pre_model_uri= \u001b[33m'\u001b[39m\u001b[33mruns:/44392372c4fc4a4ea15cc8c4481f424d/pre_processor_model\u001b[39m\u001b[33m'\u001b[39m\n\u001b[32m      5\u001b[39m \u001b[38;5;66;03m# Load model as a PyFuncModel.\u001b[39;00m\n\u001b[32m----> \u001b[39m\u001b[32m6\u001b[39m loaded_model = \u001b[43mmlflow\u001b[49m\u001b[43m.\u001b[49m\u001b[43msklearn\u001b[49m\u001b[43m.\u001b[49m\u001b[43mload_model\u001b[49m\u001b[43m(\u001b[49m\u001b[43mlogged_model\u001b[49m\u001b[43m)\u001b[49m\n\u001b[32m      7\u001b[39m pre_model = mlflow.sklearn.load_model(pre_model_uri)\n\u001b[32m      8\u001b[39m \u001b[38;5;66;03m# y_pred1 = loaded_model.predict(x_test)\u001b[39;00m\n\u001b[32m      9\u001b[39m \u001b[38;5;66;03m# accu = r2_score(y_test,y_pred1)\u001b[39;00m\n\u001b[32m     10\u001b[39m \u001b[38;5;66;03m# print(accu)\u001b[39;00m\n\u001b[32m     11\u001b[39m \n\u001b[32m     12\u001b[39m \n\u001b[32m     13\u001b[39m \u001b[38;5;66;03m# Predict on a Pandas DataFrame.\u001b[39;00m\n",
      "\u001b[36mFile \u001b[39m\u001b[32md:\\ML_MODEL\\MLOPS_PROJECT\\project_youtube_3\\COmplete_ML_Pipeline\\complete-ml-pipeline\\myvenv\\Lib\\site-packages\\mlflow\\sklearn\\__init__.py:633\u001b[39m, in \u001b[36mload_model\u001b[39m\u001b[34m(model_uri, dst_path)\u001b[39m\n\u001b[32m    598\u001b[39m \u001b[38;5;28;01mdef\u001b[39;00m\u001b[38;5;250m \u001b[39m\u001b[34mload_model\u001b[39m(model_uri, dst_path=\u001b[38;5;28;01mNone\u001b[39;00m):\n\u001b[32m    599\u001b[39m \u001b[38;5;250m    \u001b[39m\u001b[33;03m\"\"\"\u001b[39;00m\n\u001b[32m    600\u001b[39m \u001b[33;03m    Load a scikit-learn model from a local file or a run.\u001b[39;00m\n\u001b[32m    601\u001b[39m \n\u001b[32m   (...)\u001b[39m\u001b[32m    631\u001b[39m \u001b[33;03m        predictions = sk_model.predict(pandas_df)\u001b[39;00m\n\u001b[32m    632\u001b[39m \u001b[33;03m    \"\"\"\u001b[39;00m\n\u001b[32m--> \u001b[39m\u001b[32m633\u001b[39m     local_model_path = \u001b[43m_download_artifact_from_uri\u001b[49m\u001b[43m(\u001b[49m\u001b[43martifact_uri\u001b[49m\u001b[43m=\u001b[49m\u001b[43mmodel_uri\u001b[49m\u001b[43m,\u001b[49m\u001b[43m \u001b[49m\u001b[43moutput_path\u001b[49m\u001b[43m=\u001b[49m\u001b[43mdst_path\u001b[49m\u001b[43m)\u001b[49m\n\u001b[32m    634\u001b[39m     flavor_conf = _get_flavor_configuration(model_path=local_model_path, flavor_name=FLAVOR_NAME)\n\u001b[32m    635\u001b[39m     _add_code_from_conf_to_system_path(local_model_path, flavor_conf)\n",
      "\u001b[36mFile \u001b[39m\u001b[32md:\\ML_MODEL\\MLOPS_PROJECT\\project_youtube_3\\COmplete_ML_Pipeline\\complete-ml-pipeline\\myvenv\\Lib\\site-packages\\mlflow\\tracking\\artifact_utils.py:108\u001b[39m, in \u001b[36m_download_artifact_from_uri\u001b[39m\u001b[34m(artifact_uri, output_path, lineage_header_info)\u001b[39m\n\u001b[32m    100\u001b[39m \u001b[38;5;250m\u001b[39m\u001b[33;03m\"\"\"\u001b[39;00m\n\u001b[32m    101\u001b[39m \u001b[33;03mArgs:\u001b[39;00m\n\u001b[32m    102\u001b[39m \u001b[33;03m    artifact_uri: The *absolute* URI of the artifact to download.\u001b[39;00m\n\u001b[32m   (...)\u001b[39m\u001b[32m    105\u001b[39m \u001b[33;03m    lineage_header_info: The model lineage header info to be consumed by lineage services.\u001b[39;00m\n\u001b[32m    106\u001b[39m \u001b[33;03m\"\"\"\u001b[39;00m\n\u001b[32m    107\u001b[39m root_uri, artifact_path = _get_root_uri_and_artifact_path(artifact_uri)\n\u001b[32m--> \u001b[39m\u001b[32m108\u001b[39m repo = \u001b[43mget_artifact_repository\u001b[49m\u001b[43m(\u001b[49m\u001b[43martifact_uri\u001b[49m\u001b[43m=\u001b[49m\u001b[43mroot_uri\u001b[49m\u001b[43m)\u001b[49m\n\u001b[32m    110\u001b[39m \u001b[38;5;28;01mif\u001b[39;00m \u001b[38;5;28misinstance\u001b[39m(repo, ModelsArtifactRepository):\n\u001b[32m    111\u001b[39m     \u001b[38;5;28;01mreturn\u001b[39;00m repo.download_artifacts(\n\u001b[32m    112\u001b[39m         artifact_path=artifact_path,\n\u001b[32m    113\u001b[39m         dst_path=output_path,\n\u001b[32m    114\u001b[39m         lineage_header_info=lineage_header_info,\n\u001b[32m    115\u001b[39m     )\n",
      "\u001b[36mFile \u001b[39m\u001b[32md:\\ML_MODEL\\MLOPS_PROJECT\\project_youtube_3\\COmplete_ML_Pipeline\\complete-ml-pipeline\\myvenv\\Lib\\site-packages\\mlflow\\store\\artifact\\artifact_repository_registry.py:131\u001b[39m, in \u001b[36mget_artifact_repository\u001b[39m\u001b[34m(artifact_uri)\u001b[39m\n\u001b[32m    118\u001b[39m \u001b[38;5;28;01mdef\u001b[39;00m\u001b[38;5;250m \u001b[39m\u001b[34mget_artifact_repository\u001b[39m(artifact_uri: \u001b[38;5;28mstr\u001b[39m) -> ArtifactRepository:\n\u001b[32m    119\u001b[39m \u001b[38;5;250m    \u001b[39m\u001b[33;03m\"\"\"\u001b[39;00m\n\u001b[32m    120\u001b[39m \u001b[33;03m    Get an artifact repository from the registry based on the scheme of artifact_uri\u001b[39;00m\n\u001b[32m    121\u001b[39m \n\u001b[32m   (...)\u001b[39m\u001b[32m    129\u001b[39m \u001b[33;03m        requirements.\u001b[39;00m\n\u001b[32m    130\u001b[39m \u001b[33;03m    \"\"\"\u001b[39;00m\n\u001b[32m--> \u001b[39m\u001b[32m131\u001b[39m     \u001b[38;5;28;01mreturn\u001b[39;00m \u001b[43m_artifact_repository_registry\u001b[49m\u001b[43m.\u001b[49m\u001b[43mget_artifact_repository\u001b[49m\u001b[43m(\u001b[49m\u001b[43martifact_uri\u001b[49m\u001b[43m)\u001b[49m\n",
      "\u001b[36mFile \u001b[39m\u001b[32md:\\ML_MODEL\\MLOPS_PROJECT\\project_youtube_3\\COmplete_ML_Pipeline\\complete-ml-pipeline\\myvenv\\Lib\\site-packages\\mlflow\\store\\artifact\\artifact_repository_registry.py:76\u001b[39m, in \u001b[36mArtifactRepositoryRegistry.get_artifact_repository\u001b[39m\u001b[34m(self, artifact_uri)\u001b[39m\n\u001b[32m     71\u001b[39m \u001b[38;5;28;01mif\u001b[39;00m repository \u001b[38;5;129;01mis\u001b[39;00m \u001b[38;5;28;01mNone\u001b[39;00m:\n\u001b[32m     72\u001b[39m     \u001b[38;5;28;01mraise\u001b[39;00m MlflowException(\n\u001b[32m     73\u001b[39m         \u001b[33mf\u001b[39m\u001b[33m\"\u001b[39m\u001b[33mCould not find a registered artifact repository for: \u001b[39m\u001b[38;5;132;01m{\u001b[39;00martifact_uri\u001b[38;5;132;01m}\u001b[39;00m\u001b[33m. \u001b[39m\u001b[33m\"\u001b[39m\n\u001b[32m     74\u001b[39m         \u001b[33mf\u001b[39m\u001b[33m\"\u001b[39m\u001b[33mCurrently registered schemes are: \u001b[39m\u001b[38;5;132;01m{\u001b[39;00m\u001b[38;5;28mlist\u001b[39m(\u001b[38;5;28mself\u001b[39m._registry.keys())\u001b[38;5;132;01m}\u001b[39;00m\u001b[33m\"\u001b[39m\n\u001b[32m     75\u001b[39m     )\n\u001b[32m---> \u001b[39m\u001b[32m76\u001b[39m \u001b[38;5;28;01mreturn\u001b[39;00m \u001b[43mrepository\u001b[49m\u001b[43m(\u001b[49m\u001b[43martifact_uri\u001b[49m\u001b[43m)\u001b[49m\n",
      "\u001b[36mFile \u001b[39m\u001b[32md:\\ML_MODEL\\MLOPS_PROJECT\\project_youtube_3\\COmplete_ML_Pipeline\\complete-ml-pipeline\\myvenv\\Lib\\site-packages\\mlflow\\store\\artifact\\runs_artifact_repo.py:26\u001b[39m, in \u001b[36mRunsArtifactRepository.__init__\u001b[39m\u001b[34m(self, artifact_uri)\u001b[39m\n\u001b[32m     23\u001b[39m \u001b[38;5;28;01mfrom\u001b[39;00m\u001b[38;5;250m \u001b[39m\u001b[34;01mmlflow\u001b[39;00m\u001b[34;01m.\u001b[39;00m\u001b[34;01mstore\u001b[39;00m\u001b[34;01m.\u001b[39;00m\u001b[34;01martifact\u001b[39;00m\u001b[34;01m.\u001b[39;00m\u001b[34;01martifact_repository_registry\u001b[39;00m\u001b[38;5;250m \u001b[39m\u001b[38;5;28;01mimport\u001b[39;00m get_artifact_repository\n\u001b[32m     25\u001b[39m \u001b[38;5;28msuper\u001b[39m().\u001b[34m__init__\u001b[39m(artifact_uri)\n\u001b[32m---> \u001b[39m\u001b[32m26\u001b[39m uri = \u001b[43mRunsArtifactRepository\u001b[49m\u001b[43m.\u001b[49m\u001b[43mget_underlying_uri\u001b[49m\u001b[43m(\u001b[49m\u001b[43martifact_uri\u001b[49m\u001b[43m)\u001b[49m\n\u001b[32m     27\u001b[39m \u001b[38;5;28mself\u001b[39m.repo = get_artifact_repository(uri)\n",
      "\u001b[36mFile \u001b[39m\u001b[32md:\\ML_MODEL\\MLOPS_PROJECT\\project_youtube_3\\COmplete_ML_Pipeline\\complete-ml-pipeline\\myvenv\\Lib\\site-packages\\mlflow\\store\\artifact\\runs_artifact_repo.py:39\u001b[39m, in \u001b[36mRunsArtifactRepository.get_underlying_uri\u001b[39m\u001b[34m(runs_uri)\u001b[39m\n\u001b[32m     37\u001b[39m (run_id, artifact_path) = RunsArtifactRepository.parse_runs_uri(runs_uri)\n\u001b[32m     38\u001b[39m tracking_uri = get_databricks_profile_uri_from_artifact_uri(runs_uri)\n\u001b[32m---> \u001b[39m\u001b[32m39\u001b[39m uri = \u001b[43mget_artifact_uri\u001b[49m\u001b[43m(\u001b[49m\u001b[43mrun_id\u001b[49m\u001b[43m,\u001b[49m\u001b[43m \u001b[49m\u001b[43martifact_path\u001b[49m\u001b[43m,\u001b[49m\u001b[43m \u001b[49m\u001b[43mtracking_uri\u001b[49m\u001b[43m)\u001b[49m\n\u001b[32m     40\u001b[39m \u001b[38;5;28;01massert\u001b[39;00m \u001b[38;5;129;01mnot\u001b[39;00m RunsArtifactRepository.is_runs_uri(uri)  \u001b[38;5;66;03m# avoid an infinite loop\u001b[39;00m\n\u001b[32m     41\u001b[39m \u001b[38;5;28;01mreturn\u001b[39;00m add_databricks_profile_info_to_artifact_uri(uri, tracking_uri)\n",
      "\u001b[36mFile \u001b[39m\u001b[32md:\\ML_MODEL\\MLOPS_PROJECT\\project_youtube_3\\COmplete_ML_Pipeline\\complete-ml-pipeline\\myvenv\\Lib\\site-packages\\mlflow\\tracking\\artifact_utils.py:52\u001b[39m, in \u001b[36mget_artifact_uri\u001b[39m\u001b[34m(run_id, artifact_path, tracking_uri)\u001b[39m\n\u001b[32m     46\u001b[39m     \u001b[38;5;28;01mraise\u001b[39;00m MlflowException(\n\u001b[32m     47\u001b[39m         message=\u001b[33m\"\u001b[39m\u001b[33mA run_id must be specified in order to obtain an artifact uri!\u001b[39m\u001b[33m\"\u001b[39m,\n\u001b[32m     48\u001b[39m         error_code=INVALID_PARAMETER_VALUE,\n\u001b[32m     49\u001b[39m     )\n\u001b[32m     51\u001b[39m store = _get_store(tracking_uri)\n\u001b[32m---> \u001b[39m\u001b[32m52\u001b[39m run = \u001b[43mstore\u001b[49m\u001b[43m.\u001b[49m\u001b[43mget_run\u001b[49m\u001b[43m(\u001b[49m\u001b[43mrun_id\u001b[49m\u001b[43m)\u001b[49m\n\u001b[32m     53\u001b[39m \u001b[38;5;66;03m# Maybe move this method to RunsArtifactRepository so the circular dependency is clearer.\u001b[39;00m\n\u001b[32m     54\u001b[39m \u001b[38;5;28;01massert\u001b[39;00m urllib.parse.urlparse(run.info.artifact_uri).scheme != \u001b[33m\"\u001b[39m\u001b[33mruns\u001b[39m\u001b[33m\"\u001b[39m  \u001b[38;5;66;03m# avoid an infinite loop\u001b[39;00m\n",
      "\u001b[36mFile \u001b[39m\u001b[32md:\\ML_MODEL\\MLOPS_PROJECT\\project_youtube_3\\COmplete_ML_Pipeline\\complete-ml-pipeline\\myvenv\\Lib\\site-packages\\mlflow\\store\\tracking\\file_store.py:699\u001b[39m, in \u001b[36mFileStore.get_run\u001b[39m\u001b[34m(self, run_id)\u001b[39m\n\u001b[32m    695\u001b[39m \u001b[38;5;250m\u001b[39m\u001b[33;03m\"\"\"\u001b[39;00m\n\u001b[32m    696\u001b[39m \u001b[33;03mNote: Will get both active and deleted runs.\u001b[39;00m\n\u001b[32m    697\u001b[39m \u001b[33;03m\"\"\"\u001b[39;00m\n\u001b[32m    698\u001b[39m _validate_run_id(run_id)\n\u001b[32m--> \u001b[39m\u001b[32m699\u001b[39m run_info = \u001b[38;5;28;43mself\u001b[39;49m\u001b[43m.\u001b[49m\u001b[43m_get_run_info\u001b[49m\u001b[43m(\u001b[49m\u001b[43mrun_id\u001b[49m\u001b[43m)\u001b[49m\n\u001b[32m    700\u001b[39m \u001b[38;5;28;01mif\u001b[39;00m run_info \u001b[38;5;129;01mis\u001b[39;00m \u001b[38;5;28;01mNone\u001b[39;00m:\n\u001b[32m    701\u001b[39m     \u001b[38;5;28;01mraise\u001b[39;00m MlflowException(\n\u001b[32m    702\u001b[39m         \u001b[33mf\u001b[39m\u001b[33m\"\u001b[39m\u001b[33mRun \u001b[39m\u001b[33m'\u001b[39m\u001b[38;5;132;01m{\u001b[39;00mrun_id\u001b[38;5;132;01m}\u001b[39;00m\u001b[33m'\u001b[39m\u001b[33m metadata is in invalid state.\u001b[39m\u001b[33m\"\u001b[39m,\n\u001b[32m    703\u001b[39m         databricks_pb2.INVALID_STATE,\n\u001b[32m    704\u001b[39m     )\n",
      "\u001b[36mFile \u001b[39m\u001b[32md:\\ML_MODEL\\MLOPS_PROJECT\\project_youtube_3\\COmplete_ML_Pipeline\\complete-ml-pipeline\\myvenv\\Lib\\site-packages\\mlflow\\store\\tracking\\file_store.py:724\u001b[39m, in \u001b[36mFileStore._get_run_info\u001b[39m\u001b[34m(self, run_uuid)\u001b[39m\n\u001b[32m    722\u001b[39m exp_id, run_dir = \u001b[38;5;28mself\u001b[39m._find_run_root(run_uuid)\n\u001b[32m    723\u001b[39m \u001b[38;5;28;01mif\u001b[39;00m run_dir \u001b[38;5;129;01mis\u001b[39;00m \u001b[38;5;28;01mNone\u001b[39;00m:\n\u001b[32m--> \u001b[39m\u001b[32m724\u001b[39m     \u001b[38;5;28;01mraise\u001b[39;00m MlflowException(\n\u001b[32m    725\u001b[39m         \u001b[33mf\u001b[39m\u001b[33m\"\u001b[39m\u001b[33mRun \u001b[39m\u001b[33m'\u001b[39m\u001b[38;5;132;01m{\u001b[39;00mrun_uuid\u001b[38;5;132;01m}\u001b[39;00m\u001b[33m'\u001b[39m\u001b[33m not found\u001b[39m\u001b[33m\"\u001b[39m, databricks_pb2.RESOURCE_DOES_NOT_EXIST\n\u001b[32m    726\u001b[39m     )\n\u001b[32m    727\u001b[39m run_info = \u001b[38;5;28mself\u001b[39m._get_run_info_from_dir(run_dir)\n\u001b[32m    728\u001b[39m \u001b[38;5;28;01mif\u001b[39;00m run_info.experiment_id != exp_id:\n",
      "\u001b[31mMlflowException\u001b[39m: Run '40371064a26146f897fe345111ac81fc' not found"
     ]
    }
   ],
   "source": [
    "import mlflow\n",
    "logged_model = 'runs:/40371064a26146f897fe345111ac81fc/best_model'\n",
    "pre_model_uri= 'runs:/44392372c4fc4a4ea15cc8c4481f424d/pre_processor_model'\n",
    "\n",
    "# Load model as a PyFuncModel.\n",
    "loaded_model = mlflow.sklearn.load_model(logged_model)\n",
    "pre_model = mlflow.sklearn.load_model(pre_model_uri)\n",
    "# y_pred1 = loaded_model.predict(x_test)\n",
    "# accu = r2_score(y_test,y_pred1)\n",
    "# print(accu)\n",
    "\n",
    "\n",
    "# Predict on a Pandas DataFrame.\n"
   ]
  },
  {
   "cell_type": "code",
   "execution_count": 33,
   "id": "efd6522b",
   "metadata": {},
   "outputs": [],
   "source": [
    "import joblib"
   ]
  },
  {
   "cell_type": "code",
   "execution_count": 34,
   "id": "7d29115e",
   "metadata": {},
   "outputs": [],
   "source": [
    "pre_model = joblib.load('my_model/preprocessor.pkl')"
   ]
  },
  {
   "cell_type": "code",
   "execution_count": 35,
   "id": "f9a73b0d",
   "metadata": {},
   "outputs": [
    {
     "name": "stderr",
     "output_type": "stream",
     "text": [
      "2025/04/18 12:31:01 WARNING mlflow.sklearn: Model was missing function: predict. Not logging python_function flavor!\n",
      "2025/04/18 12:31:06 WARNING mlflow.models.model: Model logged without a signature and input example. Please set `input_example` parameter when logging the model to auto infer the model signature.\n"
     ]
    },
    {
     "data": {
      "text/plain": [
       "<mlflow.models.model.ModelInfo at 0x18401311310>"
      ]
     },
     "execution_count": 35,
     "metadata": {},
     "output_type": "execute_result"
    }
   ],
   "source": [
    "mlflow.sklearn.log_model(pre_model,artifact_path='pre_processor_model')"
   ]
  },
  {
   "cell_type": "code",
   "execution_count": 6,
   "metadata": {},
   "outputs": [],
   "source": [
    "import joblib\n",
    "pre_model = joblib.load('my_model/preprocessor.pkl')\n",
    "model = joblib.load('my_model/ml_model.pkl')"
   ]
  },
  {
   "cell_type": "code",
   "execution_count": 18,
   "id": "3dcddcd0",
   "metadata": {},
   "outputs": [
    {
     "name": "stdout",
     "output_type": "stream",
     "text": [
      " data is   Car_ID  Brand    Model  Year Engine Size Fuel Type Transmission Mileage  \\\n",
      "0     52  Tesla  Model Y  2002         2.5    Petrol       Manual      27   \n",
      "\n",
      "  Condition  Price  \n",
      "0  Like New   5214  \n"
     ]
    },
    {
     "data": {
      "text/html": [
       "<div>\n",
       "<style scoped>\n",
       "    .dataframe tbody tr th:only-of-type {\n",
       "        vertical-align: middle;\n",
       "    }\n",
       "\n",
       "    .dataframe tbody tr th {\n",
       "        vertical-align: top;\n",
       "    }\n",
       "\n",
       "    .dataframe thead th {\n",
       "        text-align: right;\n",
       "    }\n",
       "</style>\n",
       "<table border=\"1\" class=\"dataframe\">\n",
       "  <thead>\n",
       "    <tr style=\"text-align: right;\">\n",
       "      <th></th>\n",
       "      <th>0</th>\n",
       "      <th>1</th>\n",
       "      <th>2</th>\n",
       "      <th>3</th>\n",
       "      <th>4</th>\n",
       "      <th>5</th>\n",
       "      <th>6</th>\n",
       "      <th>7</th>\n",
       "      <th>8</th>\n",
       "      <th>9</th>\n",
       "      <th>...</th>\n",
       "      <th>37</th>\n",
       "      <th>38</th>\n",
       "      <th>39</th>\n",
       "      <th>40</th>\n",
       "      <th>41</th>\n",
       "      <th>42</th>\n",
       "      <th>43</th>\n",
       "      <th>44</th>\n",
       "      <th>45</th>\n",
       "      <th>46</th>\n",
       "    </tr>\n",
       "  </thead>\n",
       "  <tbody>\n",
       "    <tr>\n",
       "      <th>0</th>\n",
       "      <td>-1.375952</td>\n",
       "      <td>-0.683085</td>\n",
       "      <td>-1.706085</td>\n",
       "      <td>0.0</td>\n",
       "      <td>0.0</td>\n",
       "      <td>0.0</td>\n",
       "      <td>0.0</td>\n",
       "      <td>0.0</td>\n",
       "      <td>1.0</td>\n",
       "      <td>0.0</td>\n",
       "      <td>...</td>\n",
       "      <td>0.0</td>\n",
       "      <td>0.0</td>\n",
       "      <td>1.0</td>\n",
       "      <td>0.0</td>\n",
       "      <td>0.0</td>\n",
       "      <td>0.0</td>\n",
       "      <td>0.0</td>\n",
       "      <td>0.0</td>\n",
       "      <td>0.0</td>\n",
       "      <td>0.0</td>\n",
       "    </tr>\n",
       "  </tbody>\n",
       "</table>\n",
       "<p>1 rows × 47 columns</p>\n",
       "</div>"
      ],
      "text/plain": [
       "         0         1         2    3    4    5    6    7    8    9   ...   37  \\\n",
       "0 -1.375952 -0.683085 -1.706085  0.0  0.0  0.0  0.0  0.0  1.0  0.0  ...  0.0   \n",
       "\n",
       "    38   39   40   41   42   43   44   45   46  \n",
       "0  0.0  1.0  0.0  0.0  0.0  0.0  0.0  0.0  0.0  \n",
       "\n",
       "[1 rows x 47 columns]"
      ]
     },
     "execution_count": 18,
     "metadata": {},
     "output_type": "execute_result"
    }
   ],
   "source": [
    "data = {'Car_ID': '52', 'Brand': 'Tesla', 'Model': 'Model Y', 'Year': '2002', 'Engine Size': '2.5', 'Fuel Type': 'Petrol', 'Transmission': 'Manual', 'Mileage': '27', 'Condition': 'Like New', 'Price' : 5214}\n",
    "df = pd.DataFrame([data])\n",
    "print(f\" data is {df}\")\n",
    "df1 = pre_model.transform(df)\n",
    "df_2 = pd.DataFrame(df1)\n",
    "df_3 = df_2.iloc[:,:-1]\n",
    "df_3"
   ]
  },
  {
   "cell_type": "code",
   "execution_count": 19,
   "id": "bf8bbf29",
   "metadata": {},
   "outputs": [
    {
     "name": "stderr",
     "output_type": "stream",
     "text": [
      "d:\\ML_MODEL\\MLOPS_PROJECT\\project_youtube_3\\COmplete_ML_Pipeline\\complete-ml-pipeline\\myvenv\\Lib\\site-packages\\sklearn\\utils\\validation.py:2739: UserWarning: X does not have valid feature names, but DecisionTreeRegressor was fitted with feature names\n",
      "  warnings.warn(\n"
     ]
    },
    {
     "data": {
      "text/plain": [
       "array([61313.37])"
      ]
     },
     "execution_count": 19,
     "metadata": {},
     "output_type": "execute_result"
    }
   ],
   "source": [
    "# d\n",
    "model.predict(df_3)"
   ]
  },
  {
   "cell_type": "code",
   "execution_count": 9,
   "id": "d33454b3",
   "metadata": {},
   "outputs": [
    {
     "data": {
      "text/plain": [
       "8"
      ]
     },
     "execution_count": 9,
     "metadata": {},
     "output_type": "execute_result"
    }
   ],
   "source": [
    "len(list(models))"
   ]
  },
  {
   "cell_type": "code",
   "execution_count": 19,
   "id": "bb27d35e",
   "metadata": {},
   "outputs": [
    {
     "data": {
      "text/plain": [
       "0          0\n",
       "1          0\n",
       "2          0\n",
       "3          0\n",
       "4          0\n",
       "5          0\n",
       "6          0\n",
       "7          0\n",
       "8          0\n",
       "9          0\n",
       "10         0\n",
       "11         0\n",
       "12         0\n",
       "13         0\n",
       "14         0\n",
       "15         0\n",
       "16         0\n",
       "17         0\n",
       "18         0\n",
       "19         0\n",
       "20         0\n",
       "21         0\n",
       "22         0\n",
       "23         0\n",
       "24         0\n",
       "25         0\n",
       "26         0\n",
       "27         0\n",
       "28         0\n",
       "29         0\n",
       "30         0\n",
       "31         0\n",
       "32         0\n",
       "33         0\n",
       "34         0\n",
       "35         0\n",
       "36         0\n",
       "37         0\n",
       "38         0\n",
       "39         0\n",
       "40         0\n",
       "41         0\n",
       "42         0\n",
       "43         0\n",
       "44         0\n",
       "45         0\n",
       "46         0\n",
       "Price    399\n",
       "dtype: int64"
      ]
     },
     "execution_count": 19,
     "metadata": {},
     "output_type": "execute_result"
    }
   ],
   "source": [
    "data = pd.read_csv('Artifact/Data_Transformation/train.csv')\n",
    "data.isnull().sum()"
   ]
  }
 ],
 "metadata": {
  "kernelspec": {
   "display_name": "myvenv",
   "language": "python",
   "name": "python3"
  },
  "language_info": {
   "codemirror_mode": {
    "name": "ipython",
    "version": 3
   },
   "file_extension": ".py",
   "mimetype": "text/x-python",
   "name": "python",
   "nbconvert_exporter": "python",
   "pygments_lexer": "ipython3",
   "version": "3.12.6"
  }
 },
 "nbformat": 4,
 "nbformat_minor": 5
}
